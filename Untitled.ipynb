{
 "cells": [
  {
   "cell_type": "code",
   "execution_count": null,
   "metadata": {
    "collapsed": false
   },
   "outputs": [],
   "source": [
    "import pandas as pd\n",
    "import numpy as np\n",
    "import datetime\n",
    "from sklearn import tree\n",
    "%pylab inline"
   ]
  },
  {
   "cell_type": "code",
   "execution_count": null,
   "metadata": {
    "collapsed": true
   },
   "outputs": [],
   "source": [
    "date_columns = [204, 75, 73, 217, 158, 159, 156, 157, 176, 177, 178, 179, 166, 167, 168, 169]\n",
    "def parse_date(x):\n",
    "    return pd.to_datetime(x, format=\"%d%b%y:%H:%M:%S\")  "
   ]
  },
  {
   "cell_type": "code",
   "execution_count": null,
   "metadata": {
    "collapsed": false
   },
   "outputs": [],
   "source": [
    "raw_data = pd.read_csv('train.csv',                    \n",
    "                   parse_dates=date_columns,\n",
    "                   date_parser = parse_date)"
   ]
  },
  {
   "cell_type": "code",
   "execution_count": null,
   "metadata": {
    "collapsed": true
   },
   "outputs": [],
   "source": [
    "train = raw_data.drop(['ID', 'target'], axis=1)"
   ]
  },
  {
   "cell_type": "code",
   "execution_count": null,
   "metadata": {
    "collapsed": false
   },
   "outputs": [],
   "source": [
    "row_count = sum(1 for line in open('train.csv'))\n",
    "print(\"Rows: %d ; Columns: %d\" % (row_count, len(train.columns)))"
   ]
  },
  {
   "cell_type": "code",
   "execution_count": null,
   "metadata": {
    "collapsed": false
   },
   "outputs": [],
   "source": [
    "1.0 - train.count().sum() / double(len(train.columns) * len(train))"
   ]
  },
  {
   "cell_type": "code",
   "execution_count": null,
   "metadata": {
    "collapsed": false
   },
   "outputs": [],
   "source": [
    "num_unique_vals = pd.DataFrame([[c, len(train[c].unique())] for c in train.columns], \n",
    "                               columns=['column', 'unique_vals']).set_index('column')\n",
    "constant_vals = num_unique_vals[num_unique_vals['unique_vals'] == 1]\n",
    "constant_vals"
   ]
  },
  {
   "cell_type": "code",
   "execution_count": null,
   "metadata": {
    "collapsed": false
   },
   "outputs": [],
   "source": [
    "train = train.drop(constant_vals.index, axis=1)"
   ]
  },
  {
   "cell_type": "code",
   "execution_count": null,
   "metadata": {
    "collapsed": false
   },
   "outputs": [],
   "source": [
    "numerics = ['int16', 'int32', 'int64', 'float16', 'float32', 'float64']\n",
    "train_numr = train.select_dtypes(include=numerics)\n",
    "train_char = train.select_dtypes(include=['object'])\n",
    "train_dates = train.select_dtypes(include=['datetime'])\n",
    "\n",
    "print(\"Numerical Count: %d, Character Count: %d, Time Count: %d\" %\n",
    "      (len(train_numr.columns), len(train_char.columns), len(train_dates.columns)))\n"
   ]
  },
  {
   "cell_type": "code",
   "execution_count": null,
   "metadata": {
    "collapsed": false
   },
   "outputs": [],
   "source": [
    "for c in train_char.columns:\n",
    "    unique_values = train_char[c].unique()\n",
    "    if len(unique_values) < 20: \n",
    "        weights = [{\"column\": x, \"weight\": (train_char[c] == x).sum() / float(len(train_char[c]))} for x in unique_values]\n",
    "        sorted_values = sorted(weights, key=lambda x: -x['weight'])\n",
    "        sorted_values_strings = [\"%s:%.3f\" % (s['column'],s['weight']) for s in sorted_values]\n",
    "        print \"%s: Unique Values: %d, %s\" % (c, len(unique_values), sorted_values_strings[:4])"
   ]
  },
  {
   "cell_type": "code",
   "execution_count": null,
   "metadata": {
    "collapsed": false
   },
   "outputs": [],
   "source": [
    "train_char = train_char.replace('-1', np.NaN)"
   ]
  },
  {
   "cell_type": "code",
   "execution_count": null,
   "metadata": {
    "collapsed": false
   },
   "outputs": [],
   "source": [
    "for c in train_dates.columns:    \n",
    "    counts = train_dates[c].groupby([train_dates[c].dt.year, \n",
    "                                 train_dates[c].dt.week]\n",
    "                          ).count()\n",
    "\n",
    "    counts.plot(kind=\"bar\", use_index=False, title=c\n",
    "                                #figsize=(5,4),\n",
    "                                #ax=axs[i]\n",
    "                )   \n",
    "    show()\n"
   ]
  },
  {
   "cell_type": "code",
   "execution_count": null,
   "metadata": {
    "collapsed": false
   },
   "outputs": [],
   "source": [
    "c = pd.concat([train_char['VAR_0237'].value_counts(), train_char['VAR_0274'].value_counts()], axis=1)\n",
    "c.columns=['VAR_0237', 'VAR_0274']\n",
    "c.sort('VAR_0237', ascending=False)"
   ]
  },
  {
   "cell_type": "code",
   "execution_count": null,
   "metadata": {
    "collapsed": false,
    "scrolled": false
   },
   "outputs": [],
   "source": [
    "ranges = pd.DataFrame([ [c, \"[%d:%d]\" % (train_numr[c].min(), train_numr[c].max())] for c in train_numr.columns ], columns=['column', 'range'])\n",
    "ranges['range'].value_counts()"
   ]
  },
  {
   "cell_type": "code",
   "execution_count": null,
   "metadata": {
    "collapsed": false
   },
   "outputs": [],
   "source": [
    "import random\n",
    "train_numr_samp = train_numr[random.sample(train_numr.columns,100)]\n",
    "corr = train_numr_samp.corr()\n"
   ]
  },
  {
   "cell_type": "code",
   "execution_count": null,
   "metadata": {
    "collapsed": false
   },
   "outputs": [],
   "source": [
    "import matplotlib.pyplot as plt\n",
    "\n",
    "pylab.rcParams['figure.figsize'] = 16, 12  # that's default image size for this \n",
    "\n",
    "plt.pcolor(corr, cmap='RdBu', vmin=-1, vmax=1)\n",
    "plt.title('pcolor')\n",
    "# set the limits of the plot to the limits of the data\n",
    "# plt.axis([x.min(), x.max(), y.min(), y.max()])\n",
    "plt.colorbar()"
   ]
  },
  {
   "cell_type": "code",
   "execution_count": null,
   "metadata": {
    "collapsed": false,
    "scrolled": true
   },
   "outputs": [],
   "source": [
    "from scipy.spatial.distance import pdist\n",
    "from scipy.cluster.hierarchy import linkage\n",
    "from scipy.cluster.hierarchy import dendrogram\n",
    "\n",
    "Z=linkage(train_numr[random.sample(train_numr.columns,100)], 'single', 'correlation')\n",
    "dendrogram(Z, color_threshold=0)\n"
   ]
  },
  {
   "cell_type": "code",
   "execution_count": null,
   "metadata": {
    "collapsed": true
   },
   "outputs": [],
   "source": []
  },
  {
   "cell_type": "code",
   "execution_count": null,
   "metadata": {
    "collapsed": true
   },
   "outputs": [],
   "source": []
  }
 ],
 "metadata": {
  "kernelspec": {
   "display_name": "Python 2",
   "language": "python",
   "name": "python2"
  },
  "language_info": {
   "codemirror_mode": {
    "name": "ipython",
    "version": 2
   },
   "file_extension": ".py",
   "mimetype": "text/x-python",
   "name": "python",
   "nbconvert_exporter": "python",
   "pygments_lexer": "ipython2",
   "version": "2.7.10"
  }
 },
 "nbformat": 4,
 "nbformat_minor": 0
}
