{
 "cells": [
  {
   "cell_type": "code",
   "execution_count": 1,
   "metadata": {
    "collapsed": false
   },
   "outputs": [
    {
     "name": "stdout",
     "output_type": "stream",
     "text": [
      "Populating the interactive namespace from numpy and matplotlib\n"
     ]
    }
   ],
   "source": [
    "import pandas as pd\n",
    "import numpy as np\n",
    "import datetime\n",
    "from sklearn import tree\n",
    "%pylab inline"
   ]
  },
  {
   "cell_type": "code",
   "execution_count": 2,
   "metadata": {
    "collapsed": false
   },
   "outputs": [
    {
     "name": "stdout",
     "output_type": "stream",
     "text": [
      "<class 'pandas.core.frame.DataFrame'>\n",
      "Int64Index: 145231 entries, 0 to 145230\n",
      "Columns: 1934 entries, ID to target\n",
      "dtypes: datetime64[ns](16), float64(477), int64(1406), object(35)\n",
      "memory usage: 2.1+ GB\n"
     ]
    },
    {
     "name": "stderr",
     "output_type": "stream",
     "text": [
      "/Library/Python/2.7/site-packages/pandas/io/parsers.py:1170: DtypeWarning: Columns (8,9,10,11,12,43,196,214,225,228,229,231,235,238) have mixed types. Specify dtype option on import or set low_memory=False.\n",
      "  data = self._reader.read(nrows)\n"
     ]
    }
   ],
   "source": [
    "date_columns = [204, 75, 73, 217, 158, 159, 156, 157, 176, 177, 178, 179, 166, 167, 168, 169]\n",
    "def parse_date(x):\n",
    "    return pd.to_datetime(x, format=\"%d%b%y:%H:%M:%S\")  \n",
    "\n",
    "raw_data = pd.read_csv('train.csv',                    \n",
    "                   parse_dates=date_columns,\n",
    "                   #nrows=50000,\n",
    "                   date_parser = parse_date)\n",
    "\n",
    "test_data = pd.read_csv('test.csv',                    \n",
    "                   parse_dates=date_columns,\n",
    "                   #nrows=50000,\n",
    "                   date_parser = parse_date)\n",
    "\n"
   ]
  },
  {
   "cell_type": "code",
   "execution_count": 3,
   "metadata": {
    "collapsed": false
   },
   "outputs": [
    {
     "name": "stdout",
     "output_type": "stream",
     "text": [
      "<class 'pandas.core.frame.DataFrame'>\n",
      "Int64Index: 145231 entries, 0 to 145230\n",
      "Columns: 1934 entries, ID to target\n",
      "dtypes: datetime64[ns](16), float64(477), int64(1406), object(35)\n",
      "memory usage: 2.1+ GB\n",
      "<class 'pandas.core.frame.DataFrame'>\n",
      "Int64Index: 145232 entries, 0 to 145231\n",
      "Columns: 1933 entries, ID to VAR_1934\n",
      "dtypes: datetime64[ns](16), float64(477), int64(1405), object(35)\n",
      "memory usage: 2.1+ GB\n"
     ]
    }
   ],
   "source": [
    "raw_data.info()\n",
    "test_data.info()"
   ]
  },
  {
   "cell_type": "code",
   "execution_count": 10,
   "metadata": {
    "collapsed": false
   },
   "outputs": [],
   "source": [
    "\n",
    "def factorize(df):\n",
    "    columns_by_dtype = {}\n",
    "    for dtype in raw_data.dtypes.unique(): \n",
    "        columns_by_dtype[dtype] = df[df.dtypes[df.dtypes == dtype].index]\n",
    "    \n",
    "    object_df = pd.concat([ pd.DataFrame({c: df[c].factorize()[0]}) for c in columns_by_dtype[np.dtype('O')].columns ], axis=1)    \n",
    "    #boolean_df = pd.concat([ pd.DataFrame({c: df[c].factorize()[0]}) for c in columns_by_dtype[np.dtype('bool')].columns ], axis=1)    \n",
    "    normalized_df = pd.concat([\n",
    "            object_df, \n",
    "            columns_by_dtype[np.dtype('float64')],\n",
    "            columns_by_dtype[np.dtype('int64')]\n",
    "        ], axis=1)\n",
    "    \n",
    "    \n",
    "    return normalized_df"
   ]
  },
  {
   "cell_type": "code",
   "execution_count": 17,
   "metadata": {
    "collapsed": false
   },
   "outputs": [],
   "source": [
    "all_data = pd.concat([raw_data, test_data], ignore_index=True)"
   ]
  },
  {
   "cell_type": "code",
   "execution_count": 18,
   "metadata": {
    "collapsed": false
   },
   "outputs": [],
   "source": [
    "all_data = factorize(all_data)"
   ]
  },
  {
   "cell_type": "code",
   "execution_count": 46,
   "metadata": {
    "collapsed": false
   },
   "outputs": [],
   "source": [
    "training_data = all_data[all_data['target'].notnull()]\n",
    "test_data = all_data[all_data['target'].isnull()]"
   ]
  },
  {
   "cell_type": "code",
   "execution_count": 38,
   "metadata": {
    "collapsed": false
   },
   "outputs": [],
   "source": [
    "t1_features = training_data.drop('target', axis=1).drop('ID', axis=1).fillna(-1)\n",
    "t1_targets = training_data['target']"
   ]
  },
  {
   "cell_type": "code",
   "execution_count": 39,
   "metadata": {
    "collapsed": false
   },
   "outputs": [
    {
     "data": {
      "text/plain": [
       "0.69844396297025801"
      ]
     },
     "execution_count": 39,
     "metadata": {},
     "output_type": "execute_result"
    }
   ],
   "source": [
    "n = 130000\n",
    "clf = tree.DecisionTreeClassifier().fit(t1_features[:n], t1_targets[:n])\n",
    "clf.score(t1_features[n:], t1_targets[n:])\n"
   ]
  },
  {
   "cell_type": "code",
   "execution_count": 59,
   "metadata": {
    "collapsed": false
   },
   "outputs": [],
   "source": [
    "test_features = test_data.drop('target', axis=1).drop('ID', axis=1).fillna(-1)\n",
    "test_targets =  pd.Series(clf.predict(test_features)) "
   ]
  },
  {
   "cell_type": "code",
   "execution_count": 72,
   "metadata": {
    "collapsed": false
   },
   "outputs": [],
   "source": [
    "submission = pd.concat([test_data['ID'].reset_index(), test_targets], ignore_index=True, axis=1)[[1,2]]\n",
    "submission.columns = ['ID', 'target']\n",
    "submission.astype(np.int).to_csv('submission.csv', index=False)"
   ]
  },
  {
   "cell_type": "code",
   "execution_count": 74,
   "metadata": {
    "collapsed": false
   },
   "outputs": [
    {
     "data": {
      "text/plain": [
       "0              1\n",
       "1              3\n",
       "2              6\n",
       "3              9\n",
       "4             10\n",
       "5             11\n",
       "6             12\n",
       "7             13\n",
       "8             15\n",
       "9             17\n",
       "10            18\n",
       "11            19\n",
       "12            27\n",
       "13            29\n",
       "14            33\n",
       "15            34\n",
       "16            39\n",
       "17            41\n",
       "18            44\n",
       "19            45\n",
       "20            47\n",
       "21            48\n",
       "22            49\n",
       "23            53\n",
       "24            56\n",
       "25            57\n",
       "26            59\n",
       "27            61\n",
       "28            64\n",
       "29            68\n",
       "           ...  \n",
       "145202    290400\n",
       "145203    290401\n",
       "145204    290403\n",
       "145205    290406\n",
       "145206    290408\n",
       "145207    290410\n",
       "145208    290411\n",
       "145209    290413\n",
       "145210    290416\n",
       "145211    290418\n",
       "145212    290419\n",
       "145213    290420\n",
       "145214    290421\n",
       "145215    290422\n",
       "145216    290423\n",
       "145217    290425\n",
       "145218    290428\n",
       "145219    290430\n",
       "145220    290433\n",
       "145221    290435\n",
       "145222    290437\n",
       "145223    290438\n",
       "145224    290442\n",
       "145225    290444\n",
       "145226    290446\n",
       "145227    290451\n",
       "145228    290455\n",
       "145229    290456\n",
       "145230    290460\n",
       "145231    290462\n",
       "Name: ID, dtype: int64"
      ]
     },
     "execution_count": 74,
     "metadata": {},
     "output_type": "execute_result"
    }
   ],
   "source": [
    "submission['ID']"
   ]
  },
  {
   "cell_type": "code",
   "execution_count": null,
   "metadata": {
    "collapsed": true
   },
   "outputs": [],
   "source": []
  }
 ],
 "metadata": {
  "kernelspec": {
   "display_name": "Python 2",
   "language": "python",
   "name": "python2"
  },
  "language_info": {
   "codemirror_mode": {
    "name": "ipython",
    "version": 2
   },
   "file_extension": ".py",
   "mimetype": "text/x-python",
   "name": "python",
   "nbconvert_exporter": "python",
   "pygments_lexer": "ipython2",
   "version": "2.7.10"
  }
 },
 "nbformat": 4,
 "nbformat_minor": 0
}
